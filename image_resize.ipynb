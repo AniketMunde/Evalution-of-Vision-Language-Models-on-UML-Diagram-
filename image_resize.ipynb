{
 "cells": [
  {
   "cell_type": "code",
   "execution_count": 5,
   "id": "8d96976f-d1b8-4800-a83b-90f08c132d9d",
   "metadata": {},
   "outputs": [
    {
     "name": "stdout",
     "output_type": "stream",
     "text": [
      "All images have been resized to (660, 660) and saved in the folder: resized_images\n"
     ]
    }
   ],
   "source": [
    "from PIL import Image\n",
    "import os\n",
    "\n",
    "# Function to resize an image to the given width and height\n",
    "def resize_image(image_path, output_path, target_size):\n",
    "    with Image.open(image_path) as img:\n",
    "        resized_img = img.resize(target_size, Image.Resampling.LANCZOS)\n",
    "        resized_img.save(output_path)  # Save the resized image to the output path\n",
    "\n",
    "# Function to resize all images in the directory\n",
    "def resize_images_in_directory(input_dir, output_dir, target_size):\n",
    "    os.makedirs(output_dir, exist_ok=True)  # Create the output directory if it doesn't exist\n",
    "    for img_file in os.listdir(input_dir):\n",
    "        if img_file.endswith(('.jpg', '.jpeg', '.png')):  # Check for valid image files\n",
    "            img_path = os.path.join(input_dir, img_file)\n",
    "            output_path = os.path.join(output_dir, img_file)\n",
    "            resize_image(img_path, output_path, target_size)\n",
    "\n",
    "# Set directory paths and target size\n",
    "input_dir = 'dataset'  # Path to the folder containing your original images\n",
    "output_dir = 'resized_images'  # Folder to save resized images\n",
    "target_size = (660, 660)  # Match the dimensions of the uploaded image\n",
    "\n",
    "# Resize all images\n",
    "resize_images_in_directory(input_dir, output_dir, target_size)\n",
    "\n",
    "print(f\"All images have been resized to {target_size} and saved in the folder: {output_dir}\")\n"
   ]
  },
  {
   "cell_type": "code",
   "execution_count": null,
   "id": "0ae4b1c0-d2a8-43dc-be48-b2f85295372d",
   "metadata": {},
   "outputs": [],
   "source": []
  },
  {
   "cell_type": "code",
   "execution_count": null,
   "id": "7614247f-20e2-4613-9034-6c74ed657af8",
   "metadata": {},
   "outputs": [],
   "source": []
  },
  {
   "cell_type": "code",
   "execution_count": null,
   "id": "7dece98c-93a3-44c7-9228-797d46292e19",
   "metadata": {},
   "outputs": [],
   "source": []
  },
  {
   "cell_type": "code",
   "execution_count": null,
   "id": "12b17277-2cd6-4748-a623-106f0ed6d495",
   "metadata": {},
   "outputs": [],
   "source": []
  }
 ],
 "metadata": {
  "kernelspec": {
   "display_name": "Python 3 (ipykernel)",
   "language": "python",
   "name": "python3"
  },
  "language_info": {
   "codemirror_mode": {
    "name": "ipython",
    "version": 3
   },
   "file_extension": ".py",
   "mimetype": "text/x-python",
   "name": "python",
   "nbconvert_exporter": "python",
   "pygments_lexer": "ipython3",
   "version": "3.10.12"
  }
 },
 "nbformat": 4,
 "nbformat_minor": 5
}
